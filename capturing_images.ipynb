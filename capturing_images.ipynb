{
 "cells": [
  {
   "cell_type": "code",
   "execution_count": 6,
   "id": "7ede0bfc",
   "metadata": {},
   "outputs": [
    {
     "name": "stdout",
     "output_type": "stream",
     "text": [
      "captured image 1\n",
      "captured image 2\n",
      "captured image 3\n",
      "captured image 4\n",
      "captured image 5\n",
      "captured image 6\n",
      "captured image 7\n",
      "captured image 8\n",
      "closing...\n"
     ]
    }
   ],
   "source": [
    "import cv2\n",
    "import matplotlib.pyplot as plt\n",
    "\n",
    "camera = cv2.VideoCapture(0)\n",
    "cv2.namedWindow('test')\n",
    "img_count = 1\n",
    "\n",
    "while True:\n",
    "    ret, frame = camera.read()\n",
    "    if not ret:\n",
    "        print(\"frame grab failed\")\n",
    "        break\n",
    "    cv2.imshow(\"test\", frame)\n",
    "    \n",
    "    k = cv2.waitKey(1)\n",
    "    if k % 256 == 27: # press escape to close camera\n",
    "        print(\"closing...\")\n",
    "        break\n",
    "    elif k % 256 == 32: # press space to capture image\n",
    "        img_name = \"./images/opencv_capture_{}.png\".format(img_count)\n",
    "        cv2.imwrite(img_name, frame)\n",
    "        print(\"captured image {}\".format(img_count))\n",
    "        img_count+=1\n",
    "\n",
    "camera.release()\n",
    "cv2.destroyAllWindows()"
   ]
  },
  {
   "cell_type": "code",
   "execution_count": null,
   "id": "3c9ed6c6",
   "metadata": {},
   "outputs": [],
   "source": []
  }
 ],
 "metadata": {
  "kernelspec": {
   "display_name": "Python 3 (ipykernel)",
   "language": "python",
   "name": "python3"
  },
  "language_info": {
   "codemirror_mode": {
    "name": "ipython",
    "version": 3
   },
   "file_extension": ".py",
   "mimetype": "text/x-python",
   "name": "python",
   "nbconvert_exporter": "python",
   "pygments_lexer": "ipython3",
   "version": "3.8.5"
  }
 },
 "nbformat": 4,
 "nbformat_minor": 5
}
