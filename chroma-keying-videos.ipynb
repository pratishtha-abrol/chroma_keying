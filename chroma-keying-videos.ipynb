{
 "cells": [
  {
   "cell_type": "code",
   "execution_count": null,
   "id": "5f98d752",
   "metadata": {},
   "outputs": [],
   "source": [
    "import cv2\n",
    "import numpy as np "
   ]
  },
  {
   "cell_type": "code",
   "execution_count": null,
   "id": "1513ecca",
   "metadata": {},
   "outputs": [],
   "source": [
    "cap = cv2.VideoCapture('./green.mp4')\n",
    "b = cv2.VideoCapture('./mask.mp4')"
   ]
  },
  {
   "cell_type": "code",
   "execution_count": null,
   "id": "e9f7cd11",
   "metadata": {},
   "outputs": [],
   "source": [
    "width, height = int(b.get(cv2.CAP_PROP_FRAME_WIDTH)), int(b.get(cv2.CAP_PROP_FRAME_HEIGHT))\n",
    "dimension = (width, height)\n",
    "print(dimension)"
   ]
  },
  {
   "cell_type": "code",
   "execution_count": null,
   "id": "6e5a2414",
   "metadata": {},
   "outputs": [],
   "source": [
    "fps = 20.0\n",
    "fourcc = cv2.VideoWriter_fourcc('X','V','I','D')\n",
    "out = cv2.VideoWriter('./output_video.avi', fourcc, fps, dimension)"
   ]
  },
  {
   "cell_type": "code",
   "execution_count": null,
   "id": "0ea18459",
   "metadata": {},
   "outputs": [],
   "source": [
    "while(cap.isOpened()):\n",
    "    ret, frame = cap.read()\n",
    "    ret2, frame2 = b.read()\n",
    "    \n",
    "    frame = cv2.resize(frame, (width, height))\n",
    "    \n",
    "    lower_green = np.array([40,60,60])\n",
    "    upper_green = np.array([90,255,255])\n",
    "    \n",
    "    hsv = cv2.cvtColor(frame, cv2.COLOR_BGR2HSV)\n",
    "    mask = cv2.inRange(hsv, lower_green, upper_green)\n",
    "    \n",
    "    green = cv2.bitwise_and(frame, frame, mask=mask)\n",
    "    green2 = cv2.bitwise_and(frame2, frame2, mask=mask)\n",
    "    \n",
    "    res = frame - green\n",
    "    res = cv2.add(green2, res)\n",
    "    cv2.imshow(\"Sample\", res)\n",
    "    \n",
    "    out.write(res)\n",
    "    \n",
    "    key = cv2.waitKey(20)\n",
    "    if key == 27:\n",
    "        break\n",
    "\n",
    "cap.release()\n",
    "cv2. destroyAllWindows()"
   ]
  },
  {
   "cell_type": "code",
   "execution_count": null,
   "id": "07fd70bc",
   "metadata": {},
   "outputs": [],
   "source": []
  }
 ],
 "metadata": {
  "kernelspec": {
   "display_name": "Python 3 (ipykernel)",
   "language": "python",
   "name": "python3"
  },
  "language_info": {
   "codemirror_mode": {
    "name": "ipython",
    "version": 3
   },
   "file_extension": ".py",
   "mimetype": "text/x-python",
   "name": "python",
   "nbconvert_exporter": "python",
   "pygments_lexer": "ipython3",
   "version": "3.8.5"
  }
 },
 "nbformat": 4,
 "nbformat_minor": 5
}
